{
  "nbformat": 4,
  "nbformat_minor": 0,
  "metadata": {
    "colab": {
      "provenance": [],
      "gpuType": "V28",
      "authorship_tag": "ABX9TyPdj9ZOLPfY+hKVcFDiEcVc",
      "include_colab_link": true
    },
    "kernelspec": {
      "name": "python3",
      "display_name": "Python 3"
    },
    "language_info": {
      "name": "python"
    },
    "accelerator": "TPU"
  },
  "cells": [
    {
      "cell_type": "markdown",
      "metadata": {
        "id": "view-in-github",
        "colab_type": "text"
      },
      "source": [
        "<a href=\"https://colab.research.google.com/github/Fernsrea/flow_matching/blob/main/Masking.ipynb\" target=\"_parent\"><img src=\"https://colab.research.google.com/assets/colab-badge.svg\" alt=\"Open In Colab\"/></a>"
      ]
    },
    {
      "cell_type": "code",
      "execution_count": 3,
      "metadata": {
        "id": "LP43UyjtwQwj"
      },
      "outputs": [],
      "source": [
        "import torch\n",
        "from torchvision import datasets, transforms\n",
        "\n",
        "# Parameters\n",
        "mask_size = 8  # Size of the square mask\n",
        "image_size = 28\n",
        "\n",
        "# Create a deterministic center square mask\n",
        "def create_center_mask():\n",
        "    mask = torch.ones((image_size, image_size), dtype=torch.float32)\n",
        "    start = (image_size - mask_size) // 2\n",
        "    end = start + mask_size\n",
        "    mask[start:end, start:end] = 0.0\n",
        "    return mask\n",
        "\n",
        "# Load MNIST\n",
        "transform = transforms.ToTensor()\n",
        "mnist = datasets.MNIST(root='./data', train=True, download=True, transform=transform)\n",
        "\n",
        "# Apply mask to an image\n",
        "mask = create_center_mask()\n",
        "sample_image, _ = mnist[0]\n",
        "masked_image = sample_image.squeeze() * mask\n",
        "\n",
        "# masked_image now contains the image with a fixed square mask\n"
      ]
    },
    {
      "cell_type": "code",
      "source": [
        "import matplotlib.pyplot as plt\n",
        "\n",
        "# Sample image and mask application\n",
        "sample_image, _ = mnist[121]\n",
        "original = sample_image.squeeze()\n",
        "masked = original * mask\n",
        "\n",
        "# Plotting\n",
        "plt.figure(figsize=(6, 3))\n",
        "plt.subplot(1, 2, 1)\n",
        "plt.title(\"Original\")\n",
        "plt.imshow(original, cmap='gray')\n",
        "plt.axis('off')\n",
        "\n",
        "plt.subplot(1, 2, 2)\n",
        "plt.title(\"Masked\")\n",
        "plt.imshow(masked, cmap='grey')\n",
        "plt.axis('off')\n",
        "\n",
        "plt.tight_layout()\n",
        "plt.show()\n"
      ],
      "metadata": {
        "colab": {
          "base_uri": "https://localhost:8080/",
          "height": 316
        },
        "id": "p4uVjUXIxBx7",
        "outputId": "a511852c-2d54-405c-9d17-9db58afbd388"
      },
      "execution_count": 15,
      "outputs": [
        {
          "output_type": "display_data",
          "data": {
            "text/plain": [
              "<Figure size 600x300 with 2 Axes>"
            ],
            "image/png": "[encoded data removed]"
          },
          "metadata": {}
        }
      ]
    },
    {
      "cell_type": "code",
      "source": [
        "import os\n",
        "import numpy as np\n",
        "from torchvision.datasets import MNIST\n",
        "from torchvision import transforms\n",
        "from PIL import Image\n",
        "\n",
        "# Parameters\n",
        "output_dir = \"./data/image_generation/\"\n",
        "mask_size = 14  # size of the center square to mask\n",
        "image_size = 28\n",
        "\n",
        "# Create output directory\n",
        "os.makedirs(output_dir, exist_ok=True)\n",
        "\n",
        "# Load MNIST dataset\n",
        "transform = transforms.ToTensor()\n",
        "mnist = MNIST(root=\"./data\", train=True, download=True, transform=transform)\n",
        "\n",
        "# Define deterministic center mask\n",
        "def create_center_mask(size, mask_size):\n",
        "    mask = np.ones((size, size), dtype=np.uint8)\n",
        "    start = (size - mask_size) // 2\n",
        "    mask[start:start + mask_size, start:start + mask_size] = 0\n",
        "    return mask\n",
        "\n",
        "mask = create_center_mask(image_size, mask_size)\n",
        "\n",
        "# Apply mask and save masked images\n",
        "for idx, (img, _) in enumerate(mnist):\n",
        "    img_np = (img.squeeze().numpy() * 255).astype(np.uint8)\n",
        "    masked_img_np = img_np * mask\n",
        "\n",
        "    masked_img = Image.fromarray(masked_img_np)\n",
        "    masked_img.save(os.path.join(output_dir, f\"{idx:05d}.png\"))\n",
        "\n",
        "    if idx % 1000 == 0:\n",
        "        print(f\"Saved {idx} masked images...\")\n",
        "\n",
        "print(\"All masked images saved.\")"
      ],
      "metadata": {
        "colab": {
          "base_uri": "https://localhost:8080/"
        },
        "id": "diPcDBxGP4X1",
        "outputId": "55c2be9c-a977-404a-d841-03442804e948"
      },
      "execution_count": 7,
      "outputs": [
        {
          "output_type": "stream",
          "name": "stderr",
          "text": [
            "100%|██████████| 9.91M/9.91M [00:00<00:00, 41.4MB/s]\n",
            "100%|██████████| 28.9k/28.9k [00:00<00:00, 1.19MB/s]\n",
            "100%|██████████| 1.65M/1.65M [00:00<00:00, 10.9MB/s]\n",
            "100%|██████████| 4.54k/4.54k [00:00<00:00, 12.0MB/s]\n"
          ]
        },
        {
          "output_type": "stream",
          "name": "stdout",
          "text": [
            "Saved 0 masked images...\n",
            "Saved 1000 masked images...\n",
            "Saved 2000 masked images...\n",
            "Saved 3000 masked images...\n",
            "Saved 4000 masked images...\n",
            "Saved 5000 masked images...\n",
            "Saved 6000 masked images...\n",
            "Saved 7000 masked images...\n",
            "Saved 8000 masked images...\n",
            "Saved 9000 masked images...\n",
            "Saved 10000 masked images...\n",
            "Saved 11000 masked images...\n",
            "Saved 12000 masked images...\n",
            "Saved 13000 masked images...\n",
            "Saved 14000 masked images...\n",
            "Saved 15000 masked images...\n",
            "Saved 16000 masked images...\n",
            "Saved 17000 masked images...\n",
            "Saved 18000 masked images...\n",
            "Saved 19000 masked images...\n",
            "Saved 20000 masked images...\n",
            "Saved 21000 masked images...\n",
            "Saved 22000 masked images...\n",
            "Saved 23000 masked images...\n",
            "Saved 24000 masked images...\n",
            "Saved 25000 masked images...\n",
            "Saved 26000 masked images...\n",
            "Saved 27000 masked images...\n",
            "Saved 28000 masked images...\n",
            "Saved 29000 masked images...\n",
            "Saved 30000 masked images...\n",
            "Saved 31000 masked images...\n",
            "Saved 32000 masked images...\n",
            "Saved 33000 masked images...\n",
            "Saved 34000 masked images...\n",
            "Saved 35000 masked images...\n",
            "Saved 36000 masked images...\n",
            "Saved 37000 masked images...\n",
            "Saved 38000 masked images...\n",
            "Saved 39000 masked images...\n",
            "Saved 40000 masked images...\n",
            "Saved 41000 masked images...\n",
            "Saved 42000 masked images...\n",
            "Saved 43000 masked images...\n",
            "Saved 44000 masked images...\n",
            "Saved 45000 masked images...\n",
            "Saved 46000 masked images...\n",
            "Saved 47000 masked images...\n",
            "Saved 48000 masked images...\n",
            "Saved 49000 masked images...\n",
            "Saved 50000 masked images...\n",
            "Saved 51000 masked images...\n",
            "Saved 52000 masked images...\n",
            "Saved 53000 masked images...\n",
            "Saved 54000 masked images...\n",
            "Saved 55000 masked images...\n",
            "Saved 56000 masked images...\n",
            "Saved 57000 masked images...\n",
            "Saved 58000 masked images...\n",
            "Saved 59000 masked images...\n",
            "All masked images saved.\n"
          ]
        }
      ]
    },
    {
      "cell_type": "code",
      "source": [
        "import torch\n",
        "import random\n",
        "from torchvision import datasets, transforms\n",
        "import matplotlib.pyplot as plt\n",
        "\n",
        "# Parameters\n",
        "mask_ratio = 0.3  # 30% of the pixels will be masked\n",
        "image_size = 28\n",
        "\n",
        "# Function to create a random mask\n",
        "def create_random_mask(image_shape, mask_ratio):\n",
        "    mask = torch.ones(image_shape, dtype=torch.float32)\n",
        "    num_pixels = image_shape[0] * image_shape[1]\n",
        "    num_mask = int(mask_ratio * num_pixels)\n",
        "\n",
        "    indices = random.sample(range(num_pixels), num_mask)\n",
        "    flat_mask = mask.view(-1)\n",
        "    flat_mask[indices] = 0.0\n",
        "    return flat_mask.view(image_shape)\n",
        "\n",
        "# Load MNIST\n",
        "transform = transforms.ToTensor()\n",
        "mnist = datasets.MNIST(root='./data/image_generation/', train=True, download=True, transform=transform)\n",
        "\n",
        "# Apply random mask to a sample image\n",
        "sample_image, _ = mnist[91]\n",
        "original = sample_image.squeeze()\n",
        "mask = create_random_mask(original.shape, mask_ratio)\n",
        "masked = original * mask\n",
        "\n",
        "# Visualize\n",
        "plt.figure(figsize=(6, 3))\n",
        "plt.subplot(1, 2, 1)\n",
        "plt.title(\"Original\")\n",
        "plt.imshow(original, cmap='gray')\n",
        "plt.axis('off')\n",
        "\n",
        "plt.subplot(1, 2, 2)\n",
        "plt.title(\"Random Masked\")\n",
        "plt.imshow(masked, cmap='gray')\n",
        "plt.axis('off')\n",
        "\n",
        "plt.tight_layout()\n",
        "plt.show()"
      ],
      "metadata": {
        "colab": {
          "base_uri": "https://localhost:8080/",
          "height": 316
        },
        "id": "u1R421kwAHZJ",
        "outputId": "e76531fb-ae8d-4a72-cd45-ac0e995c1752"
      },
      "execution_count": 3,
      "outputs": [
        {
          "output_type": "display_data",
          "data": {
            "text/plain": [
              "<Figure size 600x300 with 2 Axes>"
            ],
            "image/png": "[encoded data removed]"
          },
          "metadata": {}
        }
      ]
    },
    {
      "cell_type": "code",
      "source": [
        "import os\n",
        "import numpy as np\n",
        "import matplotlib.pyplot as plt\n",
        "from torchvision.datasets import MNIST\n",
        "from torchvision import transforms\n",
        "from PIL import Image\n",
        "\n",
        "# Parameters\n",
        "output_dir = \"./data/image_generation/\"\n",
        "image_size = 28\n",
        "mask_fraction = 0.5  # 50% pixels will be zeroed out\n",
        "num_samples_to_plot = 5\n",
        "\n",
        "# Create output directory\n",
        "os.makedirs(output_dir, exist_ok=True)\n",
        "\n",
        "# Load MNIST dataset\n",
        "transform = transforms.ToTensor()\n",
        "mnist = MNIST(root=\"./data\", train=True, download=True, transform=transform)\n",
        "\n",
        "# Function to create a random binary mask\n",
        "def create_random_mask(size, fraction):\n",
        "    total_pixels = size * size\n",
        "    num_masked = int(total_pixels * fraction)\n",
        "    mask = np.ones(total_pixels, dtype=np.uint8)\n",
        "    mask[:num_masked] = 0\n",
        "    np.random.shuffle(mask)\n",
        "    return mask.reshape((size, size))\n",
        "\n",
        "# Plotting lists\n",
        "original_imgs = []\n",
        "masked_imgs = []\n",
        "\n",
        "# Apply random mask, save masked image, and collect samples\n",
        "for idx, (img, _) in enumerate(mnist):\n",
        "    img_np = (img.squeeze().numpy() * 255).astype(np.uint8)\n",
        "    mask = create_random_mask(image_size, mask_fraction)\n",
        "    masked_np = img_np * mask\n",
        "\n",
        "    # Save masked image\n",
        "    masked_img = Image.fromarray(masked_np)\n",
        "    masked_img.save(os.path.join(output_dir, f\"{idx:05d}.png\"))\n",
        "\n",
        "    # Collect some examples for plotting\n",
        "    if idx < num_samples_to_plot:\n",
        "        original_imgs.append(img_np)\n",
        "        masked_imgs.append(masked_np)\n",
        "\n",
        "    if idx % 1000 == 0:\n",
        "        print(f\"Saved {idx} masked images...\")\n",
        "\n",
        "# Plot original vs masked images\n",
        "fig, axes = plt.subplots(num_samples_to_plot, 2, figsize=(4, 2 * num_samples_to_plot))\n",
        "for i in range(num_samples_to_plot):\n",
        "    axes[i, 0].imshow(original_imgs[i], cmap='gray')\n",
        "    axes[i, 0].set_title(\"Original\")\n",
        "    axes[i, 0].axis(\"off\")\n",
        "\n",
        "    axes[i, 1].imshow(masked_imgs[i], cmap='gray')\n",
        "    axes[i, 1].set_title(\"Masked\")\n",
        "    axes[i, 1].axis(\"off\")\n",
        "\n",
        "plt.tight_layout()\n",
        "plt.show()\n",
        "\n",
        "print(\"Done.\")"
      ],
      "metadata": {
        "colab": {
          "base_uri": "https://localhost:8080/",
          "height": 1000
        },
        "id": "IXhISoOcXoYh",
        "outputId": "2a19bdb7-e463-4064-9de8-861530332ed9"
      },
      "execution_count": 5,
      "outputs": [
        {
          "output_type": "stream",
          "name": "stdout",
          "text": [
            "Saved 0 masked images...\n",
            "Saved 1000 masked images...\n",
            "Saved 2000 masked images...\n",
            "Saved 3000 masked images...\n",
            "Saved 4000 masked images...\n",
            "Saved 5000 masked images...\n",
            "Saved 6000 masked images...\n",
            "Saved 7000 masked images...\n",
            "Saved 8000 masked images...\n",
            "Saved 9000 masked images...\n",
            "Saved 10000 masked images...\n",
            "Saved 11000 masked images...\n",
            "Saved 12000 masked images...\n",
            "Saved 13000 masked images...\n",
            "Saved 14000 masked images...\n",
            "Saved 15000 masked images...\n",
            "Saved 16000 masked images...\n",
            "Saved 17000 masked images...\n",
            "Saved 18000 masked images...\n",
            "Saved 19000 masked images...\n",
            "Saved 20000 masked images...\n",
            "Saved 21000 masked images...\n",
            "Saved 22000 masked images...\n",
            "Saved 23000 masked images...\n",
            "Saved 24000 masked images...\n",
            "Saved 25000 masked images...\n",
            "Saved 26000 masked images...\n",
            "Saved 27000 masked images...\n",
            "Saved 28000 masked images...\n",
            "Saved 29000 masked images...\n",
            "Saved 30000 masked images...\n",
            "Saved 31000 masked images...\n",
            "Saved 32000 masked images...\n",
            "Saved 33000 masked images...\n",
            "Saved 34000 masked images...\n",
            "Saved 35000 masked images...\n",
            "Saved 36000 masked images...\n",
            "Saved 37000 masked images...\n",
            "Saved 38000 masked images...\n",
            "Saved 39000 masked images...\n",
            "Saved 40000 masked images...\n",
            "Saved 41000 masked images...\n",
            "Saved 42000 masked images...\n",
            "Saved 43000 masked images...\n",
            "Saved 44000 masked images...\n",
            "Saved 45000 masked images...\n",
            "Saved 46000 masked images...\n",
            "Saved 47000 masked images...\n",
            "Saved 48000 masked images...\n",
            "Saved 49000 masked images...\n",
            "Saved 50000 masked images...\n",
            "Saved 51000 masked images...\n",
            "Saved 52000 masked images...\n",
            "Saved 53000 masked images...\n",
            "Saved 54000 masked images...\n",
            "Saved 55000 masked images...\n",
            "Saved 56000 masked images...\n",
            "Saved 57000 masked images...\n",
            "Saved 58000 masked images...\n",
            "Saved 59000 masked images...\n"
          ]
        },
        {
          "output_type": "display_data",
          "data": {
            "text/plain": [
              "<Figure size 400x1000 with 10 Axes>"
            ],
            "image/png": "[encoded data removed]"
          },
          "metadata": {}
        },
        {
          "output_type": "stream",
          "name": "stdout",
          "text": [
            "Done.\n"
          ]
        }
      ]
    },
    {
      "cell_type": "code",
      "source": [
        "import torch\n",
        "import random\n",
        "from torchvision import datasets, transforms\n",
        "import matplotlib.pyplot as plt\n",
        "\n",
        "# Parameters\n",
        "mask_size = 12  # square mask size\n",
        "image_size = 28\n",
        "\n",
        "# Function to create a structured random square mask\n",
        "def create_structured_random_mask(image_shape, mask_size):\n",
        "    mask = torch.ones(image_shape, dtype=torch.float32)\n",
        "    max_x = image_shape[0] - mask_size\n",
        "    max_y = image_shape[1] - mask_size\n",
        "    top_x = random.randint(0, max_x)\n",
        "    top_y = random.randint(0, max_y)\n",
        "    mask[top_x:top_x + mask_size, top_y:top_y + mask_size] = 0.0\n",
        "    return mask\n",
        "\n",
        "# Load MNIST\n",
        "transform = transforms.ToTensor()\n",
        "mnist = datasets.MNIST(root='./data', train=True, download=True, transform=transform)\n",
        "\n",
        "# Apply structured random mask to a sample image\n",
        "sample_image, _ = mnist[9]\n",
        "original = sample_image.squeeze()\n",
        "mask = create_structured_random_mask(original.shape, mask_size)\n",
        "masked = original * mask\n",
        "\n",
        "# Visualize\n",
        "plt.figure(figsize=(6, 3))\n",
        "plt.subplot(1, 2, 1)\n",
        "plt.title(\"Original\")\n",
        "plt.imshow(original, cmap='gray')\n",
        "plt.axis('off')\n",
        "\n",
        "plt.subplot(1, 2, 2)\n",
        "plt.title(\"Structured Random Masked\")\n",
        "plt.imshow(masked, cmap='gray')\n",
        "plt.axis('off')\n",
        "\n",
        "plt.tight_layout()\n",
        "plt.show()"
      ],
      "metadata": {
        "colab": {
          "base_uri": "https://localhost:8080/",
          "height": 316
        },
        "id": "gI4ZX5mCMgK4",
        "outputId": "ecab3236-d39e-49b6-c1d3-76cdb2f007c1"
      },
      "execution_count": 12,
      "outputs": [
        {
          "output_type": "display_data",
          "data": {
            "text/plain": [
              "<Figure size 600x300 with 2 Axes>"
            ],
            "image/png": "[encoded data removed]"
          },
          "metadata": {}
        }
      ]
    },
    {
      "cell_type": "code",
      "source": [
        "import torch\n",
        "import random\n",
        "import os\n",
        "from torchvision import datasets, transforms\n",
        "from torchvision.utils import save_image\n",
        "from tqdm import tqdm\n",
        "\n",
        "# Parameters\n",
        "mask_size = 14\n",
        "output_dir = './data/image_generation/'\n",
        "os.makedirs(output_dir, exist_ok=True)\n",
        "\n",
        "# Function to create structured random square mask\n",
        "def create_structured_random_mask(image_shape, mask_size):\n",
        "    mask = torch.ones(image_shape, dtype=torch.float32)\n",
        "    max_x = image_shape[0] - mask_size\n",
        "    max_y = image_shape[1] - mask_size\n",
        "    top_x = random.randint(0, max_x)\n",
        "    top_y = random.randint(0, max_y)\n",
        "    mask[top_x:top_x + mask_size, top_y:top_y + mask_size] = 0.0\n",
        "    return mask\n",
        "\n",
        "# Load MNIST dataset\n",
        "transform = transforms.ToTensor()\n",
        "mnist = datasets.MNIST(root='./data', train=True, download=True, transform=transform)\n",
        "\n",
        "# Apply mask and save each image\n",
        "for idx, (image, _) in tqdm(enumerate(mnist), total=len(mnist)):\n",
        "    image = image.squeeze()  # shape: [28, 28]\n",
        "    mask = create_structured_random_mask(image.shape, mask_size)\n",
        "    masked_image = image * mask\n",
        "    save_path = os.path.join(output_dir, f\"masked_{idx:05d}.png\")\n",
        "    save_image(masked_image, save_path)\n"
      ],
      "metadata": {
        "colab": {
          "base_uri": "https://localhost:8080/"
        },
        "id": "do6QODK2Oblh",
        "outputId": "a292fa13-d7ac-4b5b-e6af-add8b1940acf"
      },
      "execution_count": 1,
      "outputs": [
        {
          "output_type": "stream",
          "name": "stderr",
          "text": [
            "100%|██████████| 9.91M/9.91M [00:00<00:00, 41.4MB/s]\n",
            "100%|██████████| 28.9k/28.9k [00:00<00:00, 1.18MB/s]\n",
            "100%|██████████| 1.65M/1.65M [00:00<00:00, 10.4MB/s]\n",
            "100%|██████████| 4.54k/4.54k [00:00<00:00, 10.9MB/s]\n",
            "100%|██████████| 60000/60000 [00:36<00:00, 1623.54it/s]\n"
          ]
        }
      ]
    }
  ]
}