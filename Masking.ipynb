{
  "nbformat": 4,
  "nbformat_minor": 0,
  "metadata": {
    "colab": {
      "provenance": [],
      "gpuType": "V28",
      "authorship_tag": "ABX9TyMcSCr4L1MfrZckl49FLg2y",
      "include_colab_link": true
    },
    "kernelspec": {
      "name": "python3",
      "display_name": "Python 3"
    },
    "language_info": {
      "name": "python"
    },
    "accelerator": "TPU"
  },
  "cells": [
    {
      "cell_type": "markdown",
      "metadata": {
        "id": "view-in-github",
        "colab_type": "text"
      },
      "source": [
        "<a href=\"https://colab.research.google.com/github/Fernsrea/flow_matching/blob/main/Masking.ipynb\" target=\"_parent\"><img src=\"https://colab.research.google.com/assets/colab-badge.svg\" alt=\"Open In Colab\"/></a>"
      ]
    },
    {
      "cell_type": "code",
      "execution_count": 3,
      "metadata": {
        "id": "LP43UyjtwQwj"
      },
      "outputs": [],
      "source": [
        "import torch\n",
        "from torchvision import datasets, transforms\n",
        "\n",
        "# Parameters\n",
        "mask_size = 8  # Size of the square mask\n",
        "image_size = 28\n",
        "\n",
        "# Create a deterministic center square mask\n",
        "def create_center_mask():\n",
        "    mask = torch.ones((image_size, image_size), dtype=torch.float32)\n",
        "    start = (image_size - mask_size) // 2\n",
        "    end = start + mask_size\n",
        "    mask[start:end, start:end] = 0.0\n",
        "    return mask\n",
        "\n",
        "# Load MNIST\n",
        "transform = transforms.ToTensor()\n",
        "mnist = datasets.MNIST(root='./data', train=True, download=True, transform=transform)\n",
        "\n",
        "# Apply mask to an image\n",
        "mask = create_center_mask()\n",
        "sample_image, _ = mnist[0]\n",
        "masked_image = sample_image.squeeze() * mask\n",
        "\n",
        "# masked_image now contains the image with a fixed square mask\n"
      ]
    },
    {
      "cell_type": "code",
      "source": [
        "import matplotlib.pyplot as plt\n",
        "\n",
        "# Sample image and mask application\n",
        "sample_image, _ = mnist[80]\n",
        "original = sample_image.squeeze()\n",
        "masked = original * mask\n",
        "\n",
        "# Plotting\n",
        "plt.figure(figsize=(6, 3))\n",
        "plt.subplot(1, 2, 1)\n",
        "plt.title(\"Original\")\n",
        "plt.imshow(original, cmap='gray')\n",
        "plt.axis('off')\n",
        "\n",
        "plt.subplot(1, 2, 2)\n",
        "plt.title(\"Masked\")\n",
        "plt.imshow(masked, cmap='gray')\n",
        "plt.axis('off')\n",
        "\n",
        "plt.tight_layout()\n",
        "plt.show()\n"
      ],
      "metadata": {
        "colab": {
          "base_uri": "https://localhost:8080/",
          "height": 316
        },
        "id": "p4uVjUXIxBx7",
        "outputId": "eacdce59-4eef-46da-9a40-b4d8a16a880f"
      },
      "execution_count": 6,
      "outputs": [
        {
          "output_type": "display_data",
          "data": {
            "text/plain": [
              "<Figure size 600x300 with 2 Axes>"
            ],
            "image/png": "[encoded data removed]"
          },
          "metadata": {}
        }
      ]
    },
    {
      "cell_type": "code",
      "source": [
        "import torch\n",
        "import random\n",
        "from torchvision import datasets, transforms\n",
        "import matplotlib.pyplot as plt\n",
        "\n",
        "# Parameters\n",
        "mask_ratio = 0.3  # 30% of the pixels will be masked\n",
        "image_size = 28\n",
        "\n",
        "# Function to create a random mask\n",
        "def create_random_mask(image_shape, mask_ratio):\n",
        "    mask = torch.ones(image_shape, dtype=torch.float32)\n",
        "    num_pixels = image_shape[0] * image_shape[1]\n",
        "    num_mask = int(mask_ratio * num_pixels)\n",
        "\n",
        "    indices = random.sample(range(num_pixels), num_mask)\n",
        "    flat_mask = mask.view(-1)\n",
        "    flat_mask[indices] = 0.0\n",
        "    return flat_mask.view(image_shape)\n",
        "\n",
        "# Load MNIST\n",
        "transform = transforms.ToTensor()\n",
        "mnist = datasets.MNIST(root='./data/image_generation/', train=True, download=True, transform=transform)\n",
        "\n",
        "# Apply random mask to a sample image\n",
        "sample_image, _ = mnist[91]\n",
        "original = sample_image.squeeze()\n",
        "mask = create_random_mask(original.shape, mask_ratio)\n",
        "masked = original * mask\n",
        "\n",
        "# Visualize\n",
        "plt.figure(figsize=(6, 3))\n",
        "plt.subplot(1, 2, 1)\n",
        "plt.title(\"Original\")\n",
        "plt.imshow(original, cmap='gray')\n",
        "plt.axis('off')\n",
        "\n",
        "plt.subplot(1, 2, 2)\n",
        "plt.title(\"Random Masked\")\n",
        "plt.imshow(masked, cmap='gray')\n",
        "plt.axis('off')\n",
        "\n",
        "plt.tight_layout()\n",
        "plt.show()"
      ],
      "metadata": {
        "colab": {
          "base_uri": "https://localhost:8080/",
          "height": 316
        },
        "id": "u1R421kwAHZJ",
        "outputId": "e76531fb-ae8d-4a72-cd45-ac0e995c1752"
      },
      "execution_count": 3,
      "outputs": [
        {
          "output_type": "display_data",
          "data": {
            "text/plain": [
              "<Figure size 600x300 with 2 Axes>"
            ],
            "image/png": "[encoded data removed]"
          },
          "metadata": {}
        }
      ]
    },
    {
      "cell_type": "code",
      "source": [
        "import torch\n",
        "import random\n",
        "from torchvision import datasets, transforms\n",
        "import matplotlib.pyplot as plt\n",
        "\n",
        "# Parameters\n",
        "mask_size = 12  # square mask size\n",
        "image_size = 28\n",
        "\n",
        "# Function to create a structured random square mask\n",
        "def create_structured_random_mask(image_shape, mask_size):\n",
        "    mask = torch.ones(image_shape, dtype=torch.float32)\n",
        "    max_x = image_shape[0] - mask_size\n",
        "    max_y = image_shape[1] - mask_size\n",
        "    top_x = random.randint(0, max_x)\n",
        "    top_y = random.randint(0, max_y)\n",
        "    mask[top_x:top_x + mask_size, top_y:top_y + mask_size] = 0.0\n",
        "    return mask\n",
        "\n",
        "# Load MNIST\n",
        "transform = transforms.ToTensor()\n",
        "mnist = datasets.MNIST(root='./data', train=True, download=True, transform=transform)\n",
        "\n",
        "# Apply structured random mask to a sample image\n",
        "sample_image, _ = mnist[9]\n",
        "original = sample_image.squeeze()\n",
        "mask = create_structured_random_mask(original.shape, mask_size)\n",
        "masked = original * mask\n",
        "\n",
        "# Visualize\n",
        "plt.figure(figsize=(6, 3))\n",
        "plt.subplot(1, 2, 1)\n",
        "plt.title(\"Original\")\n",
        "plt.imshow(original, cmap='gray')\n",
        "plt.axis('off')\n",
        "\n",
        "plt.subplot(1, 2, 2)\n",
        "plt.title(\"Structured Random Masked\")\n",
        "plt.imshow(masked, cmap='gray')\n",
        "plt.axis('off')\n",
        "\n",
        "plt.tight_layout()\n",
        "plt.show()"
      ],
      "metadata": {
        "colab": {
          "base_uri": "https://localhost:8080/",
          "height": 316
        },
        "id": "gI4ZX5mCMgK4",
        "outputId": "0ed5715f-758e-441b-d5fa-b355bda2be38"
      },
      "execution_count": 8,
      "outputs": [
        {
          "output_type": "display_data",
          "data": {
            "text/plain": [
              "<Figure size 600x300 with 2 Axes>"
            ],
            "image/png": "[encoded data removed]"
          },
          "metadata": {}
        }
      ]
    },
    {
      "cell_type": "code",
      "source": [
        "import torch\n",
        "import random\n",
        "import os\n",
        "from torchvision import datasets, transforms\n",
        "from torchvision.utils import save_image\n",
        "from tqdm import tqdm\n",
        "\n",
        "# Parameters\n",
        "mask_size = 14\n",
        "output_dir = './data/image_generation/'\n",
        "os.makedirs(output_dir, exist_ok=True)\n",
        "\n",
        "# Function to create structured random square mask\n",
        "def create_structured_random_mask(image_shape, mask_size):\n",
        "    mask = torch.ones(image_shape, dtype=torch.float32)\n",
        "    max_x = image_shape[0] - mask_size\n",
        "    max_y = image_shape[1] - mask_size\n",
        "    top_x = random.randint(0, max_x)\n",
        "    top_y = random.randint(0, max_y)\n",
        "    mask[top_x:top_x + mask_size, top_y:top_y + mask_size] = 0.0\n",
        "    return mask\n",
        "\n",
        "# Load MNIST dataset\n",
        "transform = transforms.ToTensor()\n",
        "mnist = datasets.MNIST(root='./data', train=True, download=True, transform=transform)\n",
        "\n",
        "# Apply mask and save each image\n",
        "for idx, (image, _) in tqdm(enumerate(mnist), total=len(mnist)):\n",
        "    image = image.squeeze()  # shape: [28, 28]\n",
        "    mask = create_structured_random_mask(image.shape, mask_size)\n",
        "    masked_image = image * mask\n",
        "    save_path = os.path.join(output_dir, f\"masked_{idx:05d}.png\")\n",
        "    save_image(masked_image, save_path)\n"
      ],
      "metadata": {
        "colab": {
          "base_uri": "https://localhost:8080/"
        },
        "id": "do6QODK2Oblh",
        "outputId": "a292fa13-d7ac-4b5b-e6af-add8b1940acf"
      },
      "execution_count": 1,
      "outputs": [
        {
          "output_type": "stream",
          "name": "stderr",
          "text": [
            "100%|██████████| 9.91M/9.91M [00:00<00:00, 41.4MB/s]\n",
            "100%|██████████| 28.9k/28.9k [00:00<00:00, 1.18MB/s]\n",
            "100%|██████████| 1.65M/1.65M [00:00<00:00, 10.4MB/s]\n",
            "100%|██████████| 4.54k/4.54k [00:00<00:00, 10.9MB/s]\n",
            "100%|██████████| 60000/60000 [00:36<00:00, 1623.54it/s]\n"
          ]
        }
      ]
    }
  ]
}