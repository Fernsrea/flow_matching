{
  "nbformat": 4,
  "nbformat_minor": 0,
  "metadata": {
    "colab": {
      "provenance": [],
      "gpuType": "V28",
      "authorship_tag": "ABX9TyN8B8yMnJFOk6WMhBtOgIXU",
      "include_colab_link": true
    },
    "kernelspec": {
      "name": "python3",
      "display_name": "Python 3"
    },
    "language_info": {
      "name": "python"
    },
    "accelerator": "TPU"
  },
  "cells": [
    {
      "cell_type": "markdown",
      "metadata": {
        "id": "view-in-github",
        "colab_type": "text"
      },
      "source": [
        "<a href=\"https://colab.research.google.com/github/Fernsrea/flow_matching/blob/main/DeterministicMask.ipynb\" target=\"_parent\"><img src=\"https://colab.research.google.com/assets/colab-badge.svg\" alt=\"Open In Colab\"/></a>"
      ]
    },
    {
      "cell_type": "code",
      "source": [
        "!pip install opencv-python"
      ],
      "metadata": {
        "id": "ROOrIHGaFstH",
        "outputId": "1b3106cc-b46c-4df1-88d1-069207022aa6",
        "colab": {
          "base_uri": "https://localhost:8080/"
        }
      },
      "execution_count": 2,
      "outputs": [
        {
          "output_type": "stream",
          "name": "stdout",
          "text": [
            "Collecting opencv-python\n",
            "  Downloading opencv_python-4.11.0.86-cp37-abi3-manylinux_2_17_x86_64.manylinux2014_x86_64.whl.metadata (20 kB)\n",
            "Requirement already satisfied: numpy>=1.21.2 in /usr/local/lib/python3.11/dist-packages (from opencv-python) (2.0.2)\n",
            "Downloading opencv_python-4.11.0.86-cp37-abi3-manylinux_2_17_x86_64.manylinux2014_x86_64.whl (63.0 MB)\n",
            "\u001b[2K   \u001b[90m━━━━━━━━━━━━━━━━━━━━━━━━━━━━━━━━━━━━━━━━\u001b[0m \u001b[32m63.0/63.0 MB\u001b[0m \u001b[31m11.0 MB/s\u001b[0m eta \u001b[36m0:00:00\u001b[0m\n",
            "\u001b[?25hInstalling collected packages: opencv-python\n",
            "Successfully installed opencv-python-4.11.0.86\n"
          ]
        }
      ]
    },
    {
      "cell_type": "code",
      "source": [
        "import numpy as np\n",
        "import random\n",
        "import cv2\n",
        "\n",
        "def generate_free_form_mask(height=28, width=28, max_strokes=5, max_vertex=5, max_angle=360, max_length=12, max_brush_width=4):\n",
        "    mask = np.ones((height, width), np.uint8)\n",
        "    num_strokes = random.randint(1, max_strokes)\n",
        "\n",
        "    for _ in range(num_strokes):\n",
        "        num_vertex = random.randint(1, max_vertex)\n",
        "        start_y = random.randint(0, height - 1)\n",
        "        start_x = random.randint(0, width - 1)\n",
        "\n",
        "        brush_width = random.randint(1, max_brush_width)\n",
        "        angle = random.uniform(0, 2 * np.pi)\n",
        "        length = random.randint(4, max_length)\n",
        "\n",
        "        points = []\n",
        "        for _ in range(num_vertex):\n",
        "            angle += random.uniform(-max_angle, max_angle) * np.pi / 180\n",
        "            dx = int(length * np.cos(angle))\n",
        "            dy = int(length * np.sin(angle))\n",
        "\n",
        "            next_x = np.clip(start_x + dx, 0, width - 1)\n",
        "            next_y = np.clip(start_y + dy, 0, height - 1)\n",
        "\n",
        "            cv2.line(mask, (start_x, start_y), (next_x, next_y), 0, brush_width)\n",
        "            start_x, start_y = next_x, next_y\n",
        "\n",
        "    return mask"
      ],
      "metadata": {
        "id": "noODiyc8FPaj"
      },
      "execution_count": 3,
      "outputs": []
    },
    {
      "cell_type": "code",
      "source": [
        "import torch\n",
        "from torchvision import datasets, transforms\n",
        "\n",
        "class MNISTWithFreeFormMask(torch.utils.data.Dataset):\n",
        "    def __init__(self, train=True, mask_prob=1.0):\n",
        "        self.dataset = datasets.MNIST(\n",
        "            root='./data', train=train, download=True, transform=transforms.ToTensor()\n",
        "        )\n",
        "        self.mask_prob = mask_prob\n",
        "\n",
        "    def __len__(self):\n",
        "        return len(self.dataset)\n",
        "\n",
        "    def __getitem__(self, idx):\n",
        "        img, label = self.dataset[idx]\n",
        "        img_np = img.squeeze(0).numpy()\n",
        "\n",
        "        if random.random() < self.mask_prob:\n",
        "            mask = generate_free_form_mask(28, 28)\n",
        "            img_np *= mask\n",
        "        else:\n",
        "            mask = np.ones_like(img_np)\n",
        "\n",
        "        return torch.tensor(img_np).unsqueeze(0).float(), torch.tensor(mask).unsqueeze(0).float(), label"
      ],
      "metadata": {
        "id": "bFiVTJCXFT9C"
      },
      "execution_count": 4,
      "outputs": []
    },
    {
      "cell_type": "code",
      "source": [
        "from torch.utils.data import DataLoader\n",
        "import matplotlib.pyplot as plt\n",
        "\n",
        "dataset = MNISTWithFreeFormMask(train=True)\n",
        "loader = DataLoader(dataset, batch_size=4, shuffle=True)\n",
        "\n",
        "imgs, masks, labels = next(iter(loader))\n",
        "\n",
        "fig, axs = plt.subplots(2, 4, figsize=(10, 5))\n",
        "for i in range(4):\n",
        "    axs[0, i].imshow(imgs[i].squeeze(), cmap='gray')\n",
        "    axs[0, i].set_title(f\"Label: {labels[i].item()}\")\n",
        "    axs[1, i].imshow(masks[i].squeeze(), cmap='gray')\n",
        "    axs[1, i].set_title(\"Free-Form Mask\")\n",
        "    axs[0, i].axis('off')\n",
        "    axs[1, i].axis('off')\n",
        "plt.tight_layout()\n",
        "plt.show()"
      ],
      "metadata": {
        "id": "AEgjCzBEFXPM",
        "outputId": "9932025c-3793-4fff-ee50-dc61626f4fbc",
        "colab": {
          "base_uri": "https://localhost:8080/",
          "height": 581
        }
      },
      "execution_count": 5,
      "outputs": [
        {
          "output_type": "stream",
          "name": "stderr",
          "text": [
            "100%|██████████| 9.91M/9.91M [00:00<00:00, 42.9MB/s]\n",
            "100%|██████████| 28.9k/28.9k [00:00<00:00, 1.18MB/s]\n",
            "100%|██████████| 1.65M/1.65M [00:00<00:00, 10.8MB/s]\n",
            "100%|██████████| 4.54k/4.54k [00:00<00:00, 11.8MB/s]\n"
          ]
        },
        {
          "output_type": "display_data",
          "data": {
            "text/plain": [
              "<Figure size 1000x500 with 8 Axes>"
            ],
            "image/png": "[encoded data removed]"
          },
          "metadata": {}
        }
      ]
    },
    {
      "cell_type": "code",
      "source": [
        "import os\n",
        "import numpy as np\n",
        "import torch\n",
        "from torchvision.datasets import MNIST\n",
        "from torchvision import transforms\n",
        "from torchvision.utils import save_image\n",
        "from PIL import Image\n",
        "\n",
        "# Parameters\n",
        "collage_output_dir = \"./data/image_generation_Collage/\"\n",
        "individual_output_dir = \"./data/image_generation_Individual/\" # New directory for individual images\n",
        "mask_size = 12  # size of the center square to mask\n",
        "image_size = 28\n",
        "collage_batch_size = 64 # Number of images to include in each collage\n",
        "\n",
        "# Create output directories\n",
        "os.makedirs(collage_output_dir, exist_ok=True)\n",
        "os.makedirs(individual_output_dir, exist_ok=True) # Create the new directory\n",
        "\n",
        "# Load MNIST dataset\n",
        "transform = transforms.ToTensor()\n",
        "mnist = MNIST(root=\"./data\", train=True, download=True, transform=transform)\n",
        "\n",
        "# Define deterministic center mask\n",
        "def create_center_mask(size, mask_size):\n",
        "    mask = np.ones((size, size), dtype=np.float32)\n",
        "    start = (size - mask_size) // 2\n",
        "    mask[start:start + mask_size, start:start + mask_size] = 0\n",
        "    return torch.from_numpy(mask).unsqueeze(0)\n",
        "\n",
        "mask_tensor = create_center_mask(image_size, mask_size)\n",
        "\n",
        "# List to accumulate masked images for collage\n",
        "collage_images = []\n",
        "collage_count = 0\n",
        "\n",
        "# Apply mask and collect images for collage\n",
        "for idx, (img_tensor, _) in enumerate(mnist):\n",
        "    masked_img_tensor = img_tensor * mask_tensor\n",
        "\n",
        "    # Save individual masked image\n",
        "    save_image(masked_img_tensor, os.path.join(individual_output_dir, f\"{idx:05d}.png\"))\n",
        "\n",
        "    collage_images.append(masked_img_tensor)\n",
        "\n",
        "    # If we have enough images for a collage, save it\n",
        "    if len(collage_images) == collage_batch_size:\n",
        "        # Stack the list of tensors into a single batch tensor\n",
        "        batch_tensor = torch.stack(collage_images)\n",
        "        # Save the collage image\n",
        "        save_image(batch_tensor, os.path.join(collage_output_dir, f\"collage_{collage_count:05d}.png\"))\n",
        "        print(f\"Saved collage {collage_count} with {collage_batch_size} images.\")\n",
        "\n",
        "        # Reset for the next collage\n",
        "        collage_images = []\n",
        "        collage_count += 1\n",
        "\n",
        "    if idx % 1000 == 0:\n",
        "        print(f\"Processed {idx} images (individual and for collages)...\")\n",
        "\n",
        "# Save any remaining images as a final collage if the last batch is not full\n",
        "if len(collage_images) > 0:\n",
        "    batch_tensor = torch.stack(collage_images)\n",
        "    save_image(batch_tensor, os.path.join(collage_output_dir, f\"collage_{collage_count:05d}_final.png\"))\n",
        "    print(f\"Saved final collage {collage_count} with {len(collage_images)} images.\")\n",
        "\n",
        "print(\"All masked images processed. Collages and individual images saved to their respective folders.\")"
      ],
      "metadata": {
        "id": "sKHrYognKAZ4",
        "outputId": "80e45fa9-f051-463b-fa38-e148901e49cc",
        "colab": {
          "base_uri": "https://localhost:8080/",
          "height": 1000
        }
      },
      "execution_count": 4,
      "outputs": [
        {
          "output_type": "stream",
          "name": "stdout",
          "text": [
            "Processed 0 images (individual and for collages)...\n",
            "Saved collage 0 with 64 images.\n",
            "Saved collage 1 with 64 images.\n",
            "Saved collage 2 with 64 images.\n",
            "Saved collage 3 with 64 images.\n",
            "Saved collage 4 with 64 images.\n",
            "Saved collage 5 with 64 images.\n",
            "Saved collage 6 with 64 images.\n",
            "Saved collage 7 with 64 images.\n",
            "Saved collage 8 with 64 images.\n",
            "Saved collage 9 with 64 images.\n",
            "Saved collage 10 with 64 images.\n",
            "Saved collage 11 with 64 images.\n",
            "Saved collage 12 with 64 images.\n",
            "Saved collage 13 with 64 images.\n",
            "Saved collage 14 with 64 images.\n",
            "Processed 1000 images (individual and for collages)...\n",
            "Saved collage 15 with 64 images.\n",
            "Saved collage 16 with 64 images.\n",
            "Saved collage 17 with 64 images.\n",
            "Saved collage 18 with 64 images.\n",
            "Saved collage 19 with 64 images.\n",
            "Saved collage 20 with 64 images.\n",
            "Saved collage 21 with 64 images.\n",
            "Saved collage 22 with 64 images.\n",
            "Saved collage 23 with 64 images.\n",
            "Saved collage 24 with 64 images.\n",
            "Saved collage 25 with 64 images.\n",
            "Saved collage 26 with 64 images.\n",
            "Saved collage 27 with 64 images.\n",
            "Saved collage 28 with 64 images.\n",
            "Saved collage 29 with 64 images.\n",
            "Saved collage 30 with 64 images.\n",
            "Processed 2000 images (individual and for collages)...\n",
            "Saved collage 31 with 64 images.\n",
            "Saved collage 32 with 64 images.\n",
            "Saved collage 33 with 64 images.\n",
            "Saved collage 34 with 64 images.\n",
            "Saved collage 35 with 64 images.\n",
            "Saved collage 36 with 64 images.\n",
            "Saved collage 37 with 64 images.\n",
            "Saved collage 38 with 64 images.\n",
            "Saved collage 39 with 64 images.\n",
            "Saved collage 40 with 64 images.\n",
            "Saved collage 41 with 64 images.\n",
            "Saved collage 42 with 64 images.\n",
            "Saved collage 43 with 64 images.\n",
            "Saved collage 44 with 64 images.\n",
            "Saved collage 45 with 64 images.\n",
            "Processed 3000 images (individual and for collages)...\n",
            "Saved collage 46 with 64 images.\n",
            "Saved collage 47 with 64 images.\n",
            "Saved collage 48 with 64 images.\n",
            "Saved collage 49 with 64 images.\n",
            "Saved collage 50 with 64 images.\n",
            "Saved collage 51 with 64 images.\n",
            "Saved collage 52 with 64 images.\n",
            "Saved collage 53 with 64 images.\n",
            "Saved collage 54 with 64 images.\n",
            "Saved collage 55 with 64 images.\n",
            "Saved collage 56 with 64 images.\n",
            "Saved collage 57 with 64 images.\n",
            "Saved collage 58 with 64 images.\n",
            "Saved collage 59 with 64 images.\n",
            "Saved collage 60 with 64 images.\n",
            "Saved collage 61 with 64 images.\n",
            "Processed 4000 images (individual and for collages)...\n",
            "Saved collage 62 with 64 images.\n",
            "Saved collage 63 with 64 images.\n",
            "Saved collage 64 with 64 images.\n",
            "Saved collage 65 with 64 images.\n",
            "Saved collage 66 with 64 images.\n",
            "Saved collage 67 with 64 images.\n",
            "Saved collage 68 with 64 images.\n",
            "Saved collage 69 with 64 images.\n",
            "Saved collage 70 with 64 images.\n",
            "Saved collage 71 with 64 images.\n",
            "Saved collage 72 with 64 images.\n",
            "Saved collage 73 with 64 images.\n",
            "Saved collage 74 with 64 images.\n",
            "Saved collage 75 with 64 images.\n",
            "Saved collage 76 with 64 images.\n",
            "Saved collage 77 with 64 images.\n",
            "Processed 5000 images (individual and for collages)...\n",
            "Saved collage 78 with 64 images.\n",
            "Saved collage 79 with 64 images.\n",
            "Saved collage 80 with 64 images.\n",
            "Saved collage 81 with 64 images.\n",
            "Saved collage 82 with 64 images.\n",
            "Saved collage 83 with 64 images.\n",
            "Saved collage 84 with 64 images.\n",
            "Saved collage 85 with 64 images.\n",
            "Saved collage 86 with 64 images.\n",
            "Saved collage 87 with 64 images.\n",
            "Saved collage 88 with 64 images.\n",
            "Saved collage 89 with 64 images.\n",
            "Saved collage 90 with 64 images.\n",
            "Saved collage 91 with 64 images.\n",
            "Saved collage 92 with 64 images.\n",
            "Processed 6000 images (individual and for collages)...\n",
            "Saved collage 93 with 64 images.\n",
            "Saved collage 94 with 64 images.\n",
            "Saved collage 95 with 64 images.\n",
            "Saved collage 96 with 64 images.\n",
            "Saved collage 97 with 64 images.\n",
            "Saved collage 98 with 64 images.\n",
            "Saved collage 99 with 64 images.\n",
            "Saved collage 100 with 64 images.\n",
            "Saved collage 101 with 64 images.\n",
            "Saved collage 102 with 64 images.\n"
          ]
        },
        {
          "output_type": "error",
          "ename": "KeyboardInterrupt",
          "evalue": "",
          "traceback": [
            "\u001b[0;31m---------------------------------------------------------------------------\u001b[0m",
            "\u001b[0;31mKeyboardInterrupt\u001b[0m                         Traceback (most recent call last)",
            "\u001b[0;32m<ipython-input-4-be8d3c70d254>\u001b[0m in \u001b[0;36m<cell line: 0>\u001b[0;34m()\u001b[0m\n\u001b[1;32m     40\u001b[0m \u001b[0;34m\u001b[0m\u001b[0m\n\u001b[1;32m     41\u001b[0m     \u001b[0;31m# Save individual masked image\u001b[0m\u001b[0;34m\u001b[0m\u001b[0;34m\u001b[0m\u001b[0m\n\u001b[0;32m---> 42\u001b[0;31m     \u001b[0msave_image\u001b[0m\u001b[0;34m(\u001b[0m\u001b[0mmasked_img_tensor\u001b[0m\u001b[0;34m,\u001b[0m \u001b[0mos\u001b[0m\u001b[0;34m.\u001b[0m\u001b[0mpath\u001b[0m\u001b[0;34m.\u001b[0m\u001b[0mjoin\u001b[0m\u001b[0;34m(\u001b[0m\u001b[0mindividual_output_dir\u001b[0m\u001b[0;34m,\u001b[0m \u001b[0;34mf\"{idx:05d}.png\"\u001b[0m\u001b[0;34m)\u001b[0m\u001b[0;34m)\u001b[0m\u001b[0;34m\u001b[0m\u001b[0;34m\u001b[0m\u001b[0m\n\u001b[0m\u001b[1;32m     43\u001b[0m \u001b[0;34m\u001b[0m\u001b[0m\n\u001b[1;32m     44\u001b[0m     \u001b[0mcollage_images\u001b[0m\u001b[0;34m.\u001b[0m\u001b[0mappend\u001b[0m\u001b[0;34m(\u001b[0m\u001b[0mmasked_img_tensor\u001b[0m\u001b[0;34m)\u001b[0m\u001b[0;34m\u001b[0m\u001b[0;34m\u001b[0m\u001b[0m\n",
            "\u001b[0;32m/usr/local/lib/python3.11/dist-packages/torch/utils/_contextlib.py\u001b[0m in \u001b[0;36mdecorate_context\u001b[0;34m(*args, **kwargs)\u001b[0m\n\u001b[1;32m    114\u001b[0m     \u001b[0;32mdef\u001b[0m \u001b[0mdecorate_context\u001b[0m\u001b[0;34m(\u001b[0m\u001b[0;34m*\u001b[0m\u001b[0margs\u001b[0m\u001b[0;34m,\u001b[0m \u001b[0;34m**\u001b[0m\u001b[0mkwargs\u001b[0m\u001b[0;34m)\u001b[0m\u001b[0;34m:\u001b[0m\u001b[0;34m\u001b[0m\u001b[0;34m\u001b[0m\u001b[0m\n\u001b[1;32m    115\u001b[0m         \u001b[0;32mwith\u001b[0m \u001b[0mctx_factory\u001b[0m\u001b[0;34m(\u001b[0m\u001b[0;34m)\u001b[0m\u001b[0;34m:\u001b[0m\u001b[0;34m\u001b[0m\u001b[0;34m\u001b[0m\u001b[0m\n\u001b[0;32m--> 116\u001b[0;31m             \u001b[0;32mreturn\u001b[0m \u001b[0mfunc\u001b[0m\u001b[0;34m(\u001b[0m\u001b[0;34m*\u001b[0m\u001b[0margs\u001b[0m\u001b[0;34m,\u001b[0m \u001b[0;34m**\u001b[0m\u001b[0mkwargs\u001b[0m\u001b[0;34m)\u001b[0m\u001b[0;34m\u001b[0m\u001b[0;34m\u001b[0m\u001b[0m\n\u001b[0m\u001b[1;32m    117\u001b[0m \u001b[0;34m\u001b[0m\u001b[0m\n\u001b[1;32m    118\u001b[0m     \u001b[0;32mreturn\u001b[0m \u001b[0mdecorate_context\u001b[0m\u001b[0;34m\u001b[0m\u001b[0;34m\u001b[0m\u001b[0m\n",
            "\u001b[0;32m/usr/local/lib/python3.11/dist-packages/torchvision/utils.py\u001b[0m in \u001b[0;36msave_image\u001b[0;34m(tensor, fp, format, **kwargs)\u001b[0m\n\u001b[1;32m    149\u001b[0m     \u001b[0mndarr\u001b[0m \u001b[0;34m=\u001b[0m \u001b[0mgrid\u001b[0m\u001b[0;34m.\u001b[0m\u001b[0mmul\u001b[0m\u001b[0;34m(\u001b[0m\u001b[0;36m255\u001b[0m\u001b[0;34m)\u001b[0m\u001b[0;34m.\u001b[0m\u001b[0madd_\u001b[0m\u001b[0;34m(\u001b[0m\u001b[0;36m0.5\u001b[0m\u001b[0;34m)\u001b[0m\u001b[0;34m.\u001b[0m\u001b[0mclamp_\u001b[0m\u001b[0;34m(\u001b[0m\u001b[0;36m0\u001b[0m\u001b[0;34m,\u001b[0m \u001b[0;36m255\u001b[0m\u001b[0;34m)\u001b[0m\u001b[0;34m.\u001b[0m\u001b[0mpermute\u001b[0m\u001b[0;34m(\u001b[0m\u001b[0;36m1\u001b[0m\u001b[0;34m,\u001b[0m \u001b[0;36m2\u001b[0m\u001b[0;34m,\u001b[0m \u001b[0;36m0\u001b[0m\u001b[0;34m)\u001b[0m\u001b[0;34m.\u001b[0m\u001b[0mto\u001b[0m\u001b[0;34m(\u001b[0m\u001b[0;34m\"cpu\"\u001b[0m\u001b[0;34m,\u001b[0m \u001b[0mtorch\u001b[0m\u001b[0;34m.\u001b[0m\u001b[0muint8\u001b[0m\u001b[0;34m)\u001b[0m\u001b[0;34m.\u001b[0m\u001b[0mnumpy\u001b[0m\u001b[0;34m(\u001b[0m\u001b[0;34m)\u001b[0m\u001b[0;34m\u001b[0m\u001b[0;34m\u001b[0m\u001b[0m\n\u001b[1;32m    150\u001b[0m     \u001b[0mim\u001b[0m \u001b[0;34m=\u001b[0m \u001b[0mImage\u001b[0m\u001b[0;34m.\u001b[0m\u001b[0mfromarray\u001b[0m\u001b[0;34m(\u001b[0m\u001b[0mndarr\u001b[0m\u001b[0;34m)\u001b[0m\u001b[0;34m\u001b[0m\u001b[0;34m\u001b[0m\u001b[0m\n\u001b[0;32m--> 151\u001b[0;31m     \u001b[0mim\u001b[0m\u001b[0;34m.\u001b[0m\u001b[0msave\u001b[0m\u001b[0;34m(\u001b[0m\u001b[0mfp\u001b[0m\u001b[0;34m,\u001b[0m \u001b[0mformat\u001b[0m\u001b[0;34m=\u001b[0m\u001b[0mformat\u001b[0m\u001b[0;34m)\u001b[0m\u001b[0;34m\u001b[0m\u001b[0;34m\u001b[0m\u001b[0m\n\u001b[0m\u001b[1;32m    152\u001b[0m \u001b[0;34m\u001b[0m\u001b[0m\n\u001b[1;32m    153\u001b[0m \u001b[0;34m\u001b[0m\u001b[0m\n",
            "\u001b[0;32m/usr/local/lib/python3.11/dist-packages/PIL/Image.py\u001b[0m in \u001b[0;36msave\u001b[0;34m(self, fp, format, **params)\u001b[0m\n\u001b[1;32m   2579\u001b[0m \u001b[0;34m\u001b[0m\u001b[0m\n\u001b[1;32m   2580\u001b[0m         \u001b[0;32mtry\u001b[0m\u001b[0;34m:\u001b[0m\u001b[0;34m\u001b[0m\u001b[0;34m\u001b[0m\u001b[0m\n\u001b[0;32m-> 2581\u001b[0;31m             \u001b[0msave_handler\u001b[0m\u001b[0;34m(\u001b[0m\u001b[0mself\u001b[0m\u001b[0;34m,\u001b[0m \u001b[0mfp\u001b[0m\u001b[0;34m,\u001b[0m \u001b[0mfilename\u001b[0m\u001b[0;34m)\u001b[0m\u001b[0;34m\u001b[0m\u001b[0;34m\u001b[0m\u001b[0m\n\u001b[0m\u001b[1;32m   2582\u001b[0m         \u001b[0;32mexcept\u001b[0m \u001b[0mException\u001b[0m\u001b[0;34m:\u001b[0m\u001b[0;34m\u001b[0m\u001b[0;34m\u001b[0m\u001b[0m\n\u001b[1;32m   2583\u001b[0m             \u001b[0;32mif\u001b[0m \u001b[0mopen_fp\u001b[0m\u001b[0;34m:\u001b[0m\u001b[0;34m\u001b[0m\u001b[0;34m\u001b[0m\u001b[0m\n",
            "\u001b[0;32m/usr/local/lib/python3.11/dist-packages/PIL/PngImagePlugin.py\u001b[0m in \u001b[0;36m_save\u001b[0;34m(im, fp, filename, chunk, save_all)\u001b[0m\n\u001b[1;32m   1508\u001b[0m \u001b[0;34m\u001b[0m\u001b[0m\n\u001b[1;32m   1509\u001b[0m     \u001b[0;32mif\u001b[0m \u001b[0mhasattr\u001b[0m\u001b[0;34m(\u001b[0m\u001b[0mfp\u001b[0m\u001b[0;34m,\u001b[0m \u001b[0;34m\"flush\"\u001b[0m\u001b[0;34m)\u001b[0m\u001b[0;34m:\u001b[0m\u001b[0;34m\u001b[0m\u001b[0;34m\u001b[0m\u001b[0m\n\u001b[0;32m-> 1510\u001b[0;31m         \u001b[0mfp\u001b[0m\u001b[0;34m.\u001b[0m\u001b[0mflush\u001b[0m\u001b[0;34m(\u001b[0m\u001b[0;34m)\u001b[0m\u001b[0;34m\u001b[0m\u001b[0;34m\u001b[0m\u001b[0m\n\u001b[0m\u001b[1;32m   1511\u001b[0m \u001b[0;34m\u001b[0m\u001b[0m\n\u001b[1;32m   1512\u001b[0m \u001b[0;34m\u001b[0m\u001b[0m\n",
            "\u001b[0;31mKeyboardInterrupt\u001b[0m: "
          ]
        }
      ]
    },
    {
      "cell_type": "code",
      "source": [
        "\n",
        "import os\n",
        "import numpy as np\n",
        "from torchvision.datasets import MNIST\n",
        "from torchvision import transforms\n",
        "from PIL import Image\n",
        "\n",
        "# Parameters\n",
        "output_dir = \"./data/image_generation/\"\n",
        "mask_size = 14  # size of the center square to mask\n",
        "image_size = 28\n",
        "\n",
        "# Create output directory\n",
        "os.makedirs(output_dir, exist_ok=True)\n",
        "\n",
        "# Load MNIST dataset\n",
        "transform = transforms.ToTensor()\n",
        "mnist = MNIST(root=\"./data\", train=True, download=True, transform=transform)\n",
        "\n",
        "# Define deterministic center mask\n",
        "def create_center_mask(size, mask_size):\n",
        "    mask = np.ones((size, size), dtype=np.uint8)\n",
        "    start = (size - mask_size) // 2\n",
        "    mask[start:start + mask_size, start:start + mask_size] = 0\n",
        "    return mask\n",
        "\n",
        "mask = create_center_mask(image_size, mask_size)\n",
        "\n",
        "# Apply mask and save masked images\n",
        "for idx, (img, _) in enumerate(mnist):\n",
        "    img_np = (img.squeeze().numpy() * 255).astype(np.uint8)\n",
        "    masked_img_np = img_np * mask\n",
        "\n",
        "    masked_img = Image.fromarray(masked_img_np)\n",
        "    masked_img.save(os.path.join(output_dir, f\"{idx:05d}.png\"))\n",
        "\n",
        "    if idx % 1000 == 0:\n",
        "        print(f\"Saved {idx} masked images...\")\n",
        "\n",
        "print(\"All masked images saved.\")"
      ],
      "metadata": {
        "id": "DkYsmNf4ovkZ",
        "outputId": "f8f35841-28fb-495b-afdf-f5c8c0db2d10",
        "colab": {
          "base_uri": "https://localhost:8080/",
          "height": 466
        }
      },
      "execution_count": 5,
      "outputs": [
        {
          "output_type": "stream",
          "name": "stdout",
          "text": [
            "Saved 0 masked images...\n",
            "Saved 1000 masked images...\n",
            "Saved 2000 masked images...\n",
            "Saved 3000 masked images...\n",
            "Saved 4000 masked images...\n",
            "Saved 5000 masked images...\n",
            "Saved 6000 masked images...\n",
            "Saved 7000 masked images...\n",
            "Saved 8000 masked images...\n",
            "Saved 9000 masked images...\n",
            "Saved 10000 masked images...\n",
            "Saved 11000 masked images...\n",
            "Saved 12000 masked images...\n",
            "Saved 13000 masked images...\n"
          ]
        },
        {
          "output_type": "error",
          "ename": "KeyboardInterrupt",
          "evalue": "",
          "traceback": [
            "\u001b[0;31m---------------------------------------------------------------------------\u001b[0m",
            "\u001b[0;31mKeyboardInterrupt\u001b[0m                         Traceback (most recent call last)",
            "\u001b[0;32m<ipython-input-5-df0892ecf649>\u001b[0m in \u001b[0;36m<cell line: 0>\u001b[0;34m()\u001b[0m\n\u001b[1;32m     28\u001b[0m \u001b[0;31m# Apply mask and save masked images\u001b[0m\u001b[0;34m\u001b[0m\u001b[0;34m\u001b[0m\u001b[0m\n\u001b[1;32m     29\u001b[0m \u001b[0;32mfor\u001b[0m \u001b[0midx\u001b[0m\u001b[0;34m,\u001b[0m \u001b[0;34m(\u001b[0m\u001b[0mimg\u001b[0m\u001b[0;34m,\u001b[0m \u001b[0m_\u001b[0m\u001b[0;34m)\u001b[0m \u001b[0;32min\u001b[0m \u001b[0menumerate\u001b[0m\u001b[0;34m(\u001b[0m\u001b[0mmnist\u001b[0m\u001b[0;34m)\u001b[0m\u001b[0;34m:\u001b[0m\u001b[0;34m\u001b[0m\u001b[0;34m\u001b[0m\u001b[0m\n\u001b[0;32m---> 30\u001b[0;31m     \u001b[0mimg_np\u001b[0m \u001b[0;34m=\u001b[0m \u001b[0;34m(\u001b[0m\u001b[0mimg\u001b[0m\u001b[0;34m.\u001b[0m\u001b[0msqueeze\u001b[0m\u001b[0;34m(\u001b[0m\u001b[0;34m)\u001b[0m\u001b[0;34m.\u001b[0m\u001b[0mnumpy\u001b[0m\u001b[0;34m(\u001b[0m\u001b[0;34m)\u001b[0m \u001b[0;34m*\u001b[0m \u001b[0;36m255\u001b[0m\u001b[0;34m)\u001b[0m\u001b[0;34m.\u001b[0m\u001b[0mastype\u001b[0m\u001b[0;34m(\u001b[0m\u001b[0mnp\u001b[0m\u001b[0;34m.\u001b[0m\u001b[0muint8\u001b[0m\u001b[0;34m)\u001b[0m\u001b[0;34m\u001b[0m\u001b[0;34m\u001b[0m\u001b[0m\n\u001b[0m\u001b[1;32m     31\u001b[0m     \u001b[0mmasked_img_np\u001b[0m \u001b[0;34m=\u001b[0m \u001b[0mimg_np\u001b[0m \u001b[0;34m*\u001b[0m \u001b[0mmask\u001b[0m\u001b[0;34m\u001b[0m\u001b[0;34m\u001b[0m\u001b[0m\n\u001b[1;32m     32\u001b[0m \u001b[0;34m\u001b[0m\u001b[0m\n",
            "\u001b[0;31mKeyboardInterrupt\u001b[0m: "
          ]
        }
      ]
    }
  ]
}